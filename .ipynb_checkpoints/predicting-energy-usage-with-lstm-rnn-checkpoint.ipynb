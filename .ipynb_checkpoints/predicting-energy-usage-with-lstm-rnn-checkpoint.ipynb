{
 "cells": [
  {
   "cell_type": "markdown",
   "metadata": {
    "_cell_guid": "a679d21f-6ea3-49ea-a2b0-2a39284ef5f8",
    "_uuid": "2dd498a9a3aa44d02fddfa4d1a9f01671f42baf4",
    "collapsed": true
   },
   "source": [
    "Experimental dataset to create regression models of appliances energy use in a low energy building. LSTM RNN to predict usage.\n",
    "\t"
   ]
  },
  {
   "cell_type": "code",
   "execution_count": 1,
   "metadata": {},
   "outputs": [
    {
     "name": "stderr",
     "output_type": "stream",
     "text": [
      "/opt/conda/lib/python3.6/site-packages/sklearn/cross_validation.py:41: DeprecationWarning: This module was deprecated in version 0.18 in favor of the model_selection module into which all the refactored classes and functions are moved. Also note that the interface of the new CV iterators are different from that of this module. This module will be removed in 0.20.\n",
      "  \"This module will be removed in 0.20.\", DeprecationWarning)\n",
      "Using TensorFlow backend.\n"
     ]
    }
   ],
   "source": [
    "from math import sqrt\n",
    "from sklearn.cross_validation import train_test_split\n",
    "from numpy import concatenate\n",
    "from pandas import read_csv\n",
    "from pandas import DataFrame\n",
    "from pandas import concat\n",
    "from pandas import to_datetime\n",
    "from sklearn.preprocessing import MinMaxScaler\n",
    "from sklearn.preprocessing import LabelEncoder\n",
    "from sklearn.metrics import mean_squared_error\n",
    "from keras.models import Sequential\n",
    "from keras.layers import LSTM\n",
    "from keras.layers import Dense\n",
    "from matplotlib import pyplot\n"
   ]
  },
  {
   "cell_type": "code",
   "execution_count": 2,
   "metadata": {
    "collapsed": true
   },
   "outputs": [],
   "source": [
    "# convert series to supervised learning\n",
    "def series_to_supevised(dataset, n_in=1, n_out=1, dropnan=True):\n",
    "    num_vars = 1 if type(dataset) is list else dataset.shape[1]\n",
    "    dataframe = DataFrame(dataset)\n",
    "    cols, names = list(), list()\n",
    "    \n",
    "    # input sequence (t-n, ....t-1)\n",
    "    for i in range(n_in, 0, -1):\n",
    "        cols.append(dataframe.shift(i))\n",
    "        names += [('var%d(t-%d)' % (j+1, i)) for j in range(num_vars)]\n",
    "    # forecast sequence (t, t+1 .... t+n)\n",
    "    for i in range(0, n_out):\n",
    "        cols.append(dataframe.shift(-i))\n",
    "        if i == 0:\n",
    "            names += [('var%d(t)' % (j+1)) for j in range(num_vars)]\n",
    "        else:\n",
    "            names += [('var%d(t+%d)' % (j+1, i)) for j in range(num_vars)]\n",
    "    \n",
    "    # put it all together \n",
    "    agg = concat(cols, axis=1)\n",
    "    agg.columns = names\n",
    "    \n",
    "    # drop rows with NaN values\n",
    "    if dropnan:\n",
    "        agg.dropna(inplace=True)\n",
    "    return agg\n"
   ]
  },
  {
   "cell_type": "code",
   "execution_count": 3,
   "metadata": {
    "collapsed": true
   },
   "outputs": [],
   "source": [
    "dataset = read_csv(r\"../input/KAG_energydata_complete.csv\")\n",
    "values = dataset.values\n",
    "#values = values[:100,:]"
   ]
  },
  {
   "cell_type": "code",
   "execution_count": 4,
   "metadata": {
    "collapsed": true
   },
   "outputs": [],
   "source": [
    "values[:,0] = to_datetime(values[:,0])"
   ]
  },
  {
   "cell_type": "code",
   "execution_count": 5,
   "metadata": {},
   "outputs": [
    {
     "name": "stderr",
     "output_type": "stream",
     "text": [
      "/opt/conda/lib/python3.6/site-packages/sklearn/utils/validation.py:444: DataConversionWarning: Data with input dtype object was converted to float64 by MinMaxScaler.\n",
      "  warnings.warn(msg, DataConversionWarning)\n"
     ]
    }
   ],
   "source": [
    "# normalize features\n",
    "scaler = MinMaxScaler(feature_range=(0,1))\n",
    "scaled = scaler.fit_transform(values)"
   ]
  },
  {
   "cell_type": "code",
   "execution_count": 6,
   "metadata": {},
   "outputs": [
    {
     "name": "stdout",
     "output_type": "stream",
     "text": [
      "reframed:  (19734, 30) reframed head:     var1(t-1)  var2(t-1)  var3(t-1)  var4(t-1)  var5(t-1)  var6(t-1)  \\\n",
      "1   0.000000   0.046729   0.428571    0.32735   0.566187   0.225345   \n",
      "2   0.000051   0.046729   0.428571    0.32735   0.541326   0.225345   \n",
      "3   0.000101   0.037383   0.428571    0.32735   0.530502   0.225345   \n",
      "4   0.000152   0.037383   0.571429    0.32735   0.524080   0.225345   \n",
      "5   0.000203   0.046729   0.571429    0.32735   0.531419   0.225345   \n",
      "\n",
      "   var7(t-1)  var8(t-1)  var9(t-1)  var10(t-1)    ...     var21(t-1)  \\\n",
      "1   0.684038   0.215188   0.746066    0.351351    ...       0.677290   \n",
      "2   0.682140   0.215188   0.748871    0.351351    ...       0.678532   \n",
      "3   0.679445   0.215188   0.755569    0.344745    ...       0.676049   \n",
      "4   0.678414   0.215188   0.758685    0.341441    ...       0.671909   \n",
      "5   0.676727   0.215188   0.758685    0.341441    ...       0.671909   \n",
      "\n",
      "   var22(t-1)  var23(t-1)  var24(t-1)  var25(t-1)  var26(t-1)  var27(t-1)  \\\n",
      "1    0.372990    0.097674    0.894737    0.500000    0.953846    0.538462   \n",
      "2    0.369239    0.100000    0.894737    0.476190    0.894872    0.533937   \n",
      "3    0.365488    0.102326    0.894737    0.452381    0.835897    0.529412   \n",
      "4    0.361736    0.104651    0.894737    0.428571    0.776923    0.524887   \n",
      "5    0.357985    0.106977    0.894737    0.404762    0.717949    0.520362   \n",
      "\n",
      "   var28(t-1)  var29(t-1)   var3(t)  \n",
      "1    0.265449    0.265449  0.428571  \n",
      "2    0.372083    0.372083  0.428571  \n",
      "3    0.572848    0.572848  0.571429  \n",
      "4    0.908261    0.908261  0.571429  \n",
      "5    0.201611    0.201611  0.571429  \n",
      "\n",
      "[5 rows x 30 columns]\n"
     ]
    }
   ],
   "source": [
    "# frame as supervised learning\n",
    "reframed = series_to_supevised(scaled, 1, 1)\n",
    "\n",
    "# drop columns we don't want to predict\n",
    "reframed.drop(reframed.columns[[29,30,32,33,34,35,36,37,38,39,40,41,42,43,44,45,46,47,48,49,50,51,52,53,54,55,56,57]], axis=1, inplace=True)\n",
    "print(\"reframed: \", reframed.shape, \"reframed head: \", reframed.head())\n",
    "\n",
    "# split into train and test sets\n",
    "values = reframed.values\n",
    "\n",
    "X = values[:,:29]\n",
    "Y = values[:,29]\n",
    "#Y2 = dataset[:,16]  \n",
    "\n",
    "\n",
    "# Split Data to Train and Test\n",
    "X_Train, X_Test, Y_Train, Y_Test = train_test_split(X, Y, test_size=0.3)\n",
    "\n",
    "# reshape input to be 3D [samples, timesteps, features]\n",
    "X_Train = X_Train.reshape((X_Train.shape[0], 1, X_Train.shape[1]))\n",
    "X_Test = X_Test.reshape((X_Test.shape[0], 1, X_Test.shape[1]))"
   ]
  },
  {
   "cell_type": "code",
   "execution_count": 7,
   "metadata": {},
   "outputs": [
    {
     "name": "stdout",
     "output_type": "stream",
     "text": [
      "Train on 13813 samples, validate on 5921 samples\n",
      "Epoch 1/70\n",
      "5s - loss: 0.0058 - val_loss: 0.0052\n",
      "Epoch 2/70\n",
      "5s - loss: 0.0050 - val_loss: 0.0052\n",
      "Epoch 3/70\n",
      "5s - loss: 0.0050 - val_loss: 0.0052\n",
      "Epoch 4/70\n",
      "5s - loss: 0.0049 - val_loss: 0.0052\n",
      "Epoch 5/70\n",
      "5s - loss: 0.0049 - val_loss: 0.0052\n",
      "Epoch 6/70\n",
      "5s - loss: 0.0049 - val_loss: 0.0052\n",
      "Epoch 7/70\n",
      "5s - loss: 0.0049 - val_loss: 0.0052\n",
      "Epoch 8/70\n",
      "5s - loss: 0.0049 - val_loss: 0.0052\n",
      "Epoch 9/70\n",
      "5s - loss: 0.0048 - val_loss: 0.0052\n",
      "Epoch 10/70\n",
      "5s - loss: 0.0048 - val_loss: 0.0052\n",
      "Epoch 11/70\n",
      "5s - loss: 0.0048 - val_loss: 0.0052\n",
      "Epoch 12/70\n",
      "5s - loss: 0.0048 - val_loss: 0.0052\n",
      "Epoch 13/70\n",
      "5s - loss: 0.0048 - val_loss: 0.0052\n",
      "Epoch 14/70\n",
      "5s - loss: 0.0048 - val_loss: 0.0051\n",
      "Epoch 15/70\n",
      "5s - loss: 0.0048 - val_loss: 0.0051\n",
      "Epoch 16/70\n",
      "5s - loss: 0.0047 - val_loss: 0.0051\n",
      "Epoch 17/70\n",
      "5s - loss: 0.0047 - val_loss: 0.0051\n",
      "Epoch 18/70\n",
      "5s - loss: 0.0047 - val_loss: 0.0051\n",
      "Epoch 19/70\n",
      "5s - loss: 0.0047 - val_loss: 0.0051\n",
      "Epoch 20/70\n",
      "5s - loss: 0.0047 - val_loss: 0.0051\n",
      "Epoch 21/70\n",
      "5s - loss: 0.0047 - val_loss: 0.0051\n",
      "Epoch 22/70\n",
      "5s - loss: 0.0047 - val_loss: 0.0051\n",
      "Epoch 23/70\n",
      "5s - loss: 0.0047 - val_loss: 0.0051\n",
      "Epoch 24/70\n",
      "5s - loss: 0.0046 - val_loss: 0.0051\n",
      "Epoch 25/70\n",
      "5s - loss: 0.0046 - val_loss: 0.0051\n",
      "Epoch 26/70\n",
      "5s - loss: 0.0046 - val_loss: 0.0051\n",
      "Epoch 27/70\n",
      "5s - loss: 0.0046 - val_loss: 0.0050\n",
      "Epoch 28/70\n",
      "5s - loss: 0.0046 - val_loss: 0.0050\n",
      "Epoch 29/70\n",
      "5s - loss: 0.0046 - val_loss: 0.0050\n",
      "Epoch 30/70\n",
      "5s - loss: 0.0046 - val_loss: 0.0050\n",
      "Epoch 31/70\n",
      "5s - loss: 0.0045 - val_loss: 0.0050\n",
      "Epoch 32/70\n",
      "5s - loss: 0.0045 - val_loss: 0.0050\n",
      "Epoch 33/70\n",
      "5s - loss: 0.0045 - val_loss: 0.0050\n",
      "Epoch 34/70\n",
      "5s - loss: 0.0045 - val_loss: 0.0050\n",
      "Epoch 35/70\n",
      "5s - loss: 0.0045 - val_loss: 0.0050\n",
      "Epoch 36/70\n",
      "5s - loss: 0.0045 - val_loss: 0.0050\n",
      "Epoch 37/70\n",
      "5s - loss: 0.0045 - val_loss: 0.0050\n",
      "Epoch 38/70\n",
      "6s - loss: 0.0045 - val_loss: 0.0050\n",
      "Epoch 39/70\n",
      "5s - loss: 0.0044 - val_loss: 0.0050\n",
      "Epoch 40/70\n",
      "5s - loss: 0.0044 - val_loss: 0.0050\n",
      "Epoch 41/70\n",
      "6s - loss: 0.0044 - val_loss: 0.0050\n",
      "Epoch 42/70\n",
      "6s - loss: 0.0044 - val_loss: 0.0050\n",
      "Epoch 43/70\n",
      "7s - loss: 0.0044 - val_loss: 0.0050\n",
      "Epoch 44/70\n",
      "6s - loss: 0.0044 - val_loss: 0.0050\n",
      "Epoch 45/70\n",
      "6s - loss: 0.0044 - val_loss: 0.0050\n",
      "Epoch 46/70\n",
      "6s - loss: 0.0044 - val_loss: 0.0050\n",
      "Epoch 47/70\n",
      "6s - loss: 0.0044 - val_loss: 0.0050\n",
      "Epoch 48/70\n",
      "6s - loss: 0.0044 - val_loss: 0.0050\n",
      "Epoch 49/70\n",
      "6s - loss: 0.0044 - val_loss: 0.0050\n",
      "Epoch 50/70\n",
      "7s - loss: 0.0043 - val_loss: 0.0050\n",
      "Epoch 51/70\n",
      "6s - loss: 0.0043 - val_loss: 0.0050\n",
      "Epoch 52/70\n",
      "6s - loss: 0.0043 - val_loss: 0.0050\n",
      "Epoch 53/70\n",
      "6s - loss: 0.0043 - val_loss: 0.0050\n",
      "Epoch 54/70\n",
      "6s - loss: 0.0043 - val_loss: 0.0050\n",
      "Epoch 55/70\n",
      "6s - loss: 0.0043 - val_loss: 0.0050\n",
      "Epoch 56/70\n",
      "6s - loss: 0.0043 - val_loss: 0.0050\n",
      "Epoch 57/70\n",
      "6s - loss: 0.0043 - val_loss: 0.0050\n",
      "Epoch 58/70\n",
      "6s - loss: 0.0043 - val_loss: 0.0050\n",
      "Epoch 59/70\n",
      "6s - loss: 0.0043 - val_loss: 0.0050\n",
      "Epoch 60/70\n",
      "6s - loss: 0.0043 - val_loss: 0.0050\n",
      "Epoch 61/70\n",
      "5s - loss: 0.0043 - val_loss: 0.0050\n",
      "Epoch 62/70\n",
      "4s - loss: 0.0043 - val_loss: 0.0050\n",
      "Epoch 63/70\n",
      "5s - loss: 0.0042 - val_loss: 0.0050\n",
      "Epoch 64/70\n",
      "5s - loss: 0.0042 - val_loss: 0.0050\n",
      "Epoch 65/70\n",
      "5s - loss: 0.0042 - val_loss: 0.0050\n",
      "Epoch 66/70\n",
      "4s - loss: 0.0042 - val_loss: 0.0050\n",
      "Epoch 67/70\n",
      "4s - loss: 0.0042 - val_loss: 0.0050\n",
      "Epoch 68/70\n",
      "5s - loss: 0.0042 - val_loss: 0.0050\n",
      "Epoch 69/70\n",
      "4s - loss: 0.0042 - val_loss: 0.0050\n",
      "Epoch 70/70\n",
      "4s - loss: 0.0042 - val_loss: 0.0050\n"
     ]
    }
   ],
   "source": [
    "# network architecture\n",
    "model = Sequential()\n",
    "model.add(LSTM(50, input_shape=(X_Train.shape[1], X_Train.shape[2])))\n",
    "model.add(Dense(1))\n",
    "model.compile(loss='mse', optimizer='adam')\n",
    "\n",
    "# fit\n",
    "history = model.fit(X_Train, Y_Train, epochs=70, batch_size=10, validation_data=(X_Test, Y_Test), verbose=2, shuffle=False)"
   ]
  },
  {
   "cell_type": "code",
   "execution_count": 8,
   "metadata": {},
   "outputs": [
    {
     "data": {
      "image/png": "[encoded data removed]",
      "text/plain": [
       "<matplotlib.figure.Figure at 0x7fe43a003710>"
      ]
     },
     "metadata": {},
     "output_type": "display_data"
    }
   ],
   "source": [
    "# plot history\n",
    "\n",
    "pyplot.plot(history.history['loss'], label='Train')\n",
    "pyplot.plot(history.history['val_loss'], label='Test')\n",
    "pyplot.legend()\n",
    "pyplot.show()"
   ]
  }
 ],
 "metadata": {
  "kernelspec": {
   "display_name": "Python 3",
   "language": "python",
   "name": "python3"
  },
  "language_info": {
   "codemirror_mode": {
    "name": "ipython",
    "version": 3
   },
   "file_extension": ".py",
   "mimetype": "text/x-python",
   "name": "python",
   "nbconvert_exporter": "python",
   "pygments_lexer": "ipython3",
   "version": "3.6.3"
  }
 },
 "nbformat": 4,
 "nbformat_minor": 1
}
